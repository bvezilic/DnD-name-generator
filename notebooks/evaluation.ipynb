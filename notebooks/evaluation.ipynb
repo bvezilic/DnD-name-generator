{
 "cells": [
  {
   "cell_type": "markdown",
   "metadata": {},
   "source": [
    "# D&D Name generator"
   ]
  },
  {
   "cell_type": "code",
   "execution_count": 1,
   "metadata": {},
   "outputs": [],
   "source": [
    "%matplotlib inline\n",
    "\n",
    "import os\n",
    "import sys\n",
    "import pprint\n",
    "from collections import defaultdict\n",
    "PROJECT_ROOT = os.path.dirname(os.getcwd())\n",
    "sys.path.append(PROJECT_ROOT)\n",
    "\n",
    "import numpy as np\n",
    "import matplotlib.pyplot as plt\n",
    "\n",
    "from data import DnDCharacterNameDataset\n",
    "from train import RNNLayerTrainer\n",
    "from generator import RNNLayerGenerator\n",
    "from utils import read_log"
   ]
  },
  {
   "cell_type": "markdown",
   "metadata": {},
   "source": [
    "## Dataset\n",
    "\n",
    "Basic information about dataset"
   ]
  },
  {
   "cell_type": "code",
   "execution_count": 2,
   "metadata": {},
   "outputs": [
    {
     "name": "stdout",
     "output_type": "stream",
     "text": [
      "Name: ['M', 'y', 'r', 'k', 'a']\n",
      "Gender: ['female', 'female', 'female', 'female', 'female']\n",
      "Race: ['dragonborn', 'dragonborn', 'dragonborn', 'dragonborn', 'dragonborn']\n",
      "Target letters: ['y', 'r', 'k', 'a', '.']\n"
     ]
    }
   ],
   "source": [
    "# Read the dataset\n",
    "dataset = DnDCharacterNameDataset(os.path.join(PROJECT_ROOT, \"data\"))\n",
    "\n",
    "# Print sample from dataset\n",
    "train, target = dataset[4]\n",
    "print(\"Name: {}\".format(train['name']))\n",
    "print(\"Gender: {}\".format(train['gender']))  # List genders and races are just convinient way of storing information per\n",
    "print(\"Race: {}\".format(train['race']))      # letter for later transformation to indices\n",
    "print(\"Target letters: {}\".format(target))"
   ]
  },
  {
   "cell_type": "markdown",
   "metadata": {},
   "source": [
    "**How many names per race?**"
   ]
  },
  {
   "cell_type": "code",
   "execution_count": 3,
   "metadata": {},
   "outputs": [
    {
     "name": "stdout",
     "output_type": "stream",
     "text": [
      "defaultdict(<class 'int'>, {'dragonborn': 154, 'dwarf': 218, 'elf': 202, 'halfling': 171, 'halforc': 124, 'human': 260, 'tiefling': 193})\n"
     ]
    },
    {
     "data": {
      "image/png": "[encoded data removed]",
      "text/plain": [
       "<Figure size 432x288 with 1 Axes>"
      ]
     },
     "metadata": {
      "needs_background": "light"
     },
     "output_type": "display_data"
    }
   ],
   "source": [
    "counter = defaultdict(int)\n",
    "\n",
    "for train, target in dataset:\n",
    "    race = train['race'][0]\n",
    "    counter[race] += 1\n",
    "print(counter)\n",
    "    \n",
    "x = np.arange(len(counter))\n",
    "labels, y = zip(*counter.items())\n",
    "\n",
    "plt.bar(x, y, tick_label=labels)\n",
    "plt.ylabel(\"Count\")\n",
    "plt.show()"
   ]
  },
  {
   "cell_type": "markdown",
   "metadata": {},
   "source": [
    "**How mana names with same first later?**"
   ]
  },
  {
   "cell_type": "code",
   "execution_count": 4,
   "metadata": {},
   "outputs": [
    {
     "name": "stdout",
     "output_type": "stream",
     "text": [
      "defaultdict(<class 'int'>, {'A': 117, 'K': 65, 'L': 53, 'M': 105, 'N': 57, 'O': 34, 'S': 99, 'T': 95, 'V': 59, 'Z': 21, 'B': 75, 'C': 50, 'D': 74, 'E': 55, 'F': 41, 'G': 58, 'H': 52, 'J': 22, 'P': 38, 'Q': 13, 'R': 65, 'U': 14, 'I': 30, 'X': 6, 'W': 17, 'Y': 7})\n"
     ]
    },
    {
     "data": {
      "image/png": "[encoded data removed]",
      "text/plain": [
       "<Figure size 432x288 with 1 Axes>"
      ]
     },
     "metadata": {
      "needs_background": "light"
     },
     "output_type": "display_data"
    }
   ],
   "source": [
    "counter = defaultdict(int)\n",
    "\n",
    "for train, target in dataset:\n",
    "    first_letter = train['name'][0]\n",
    "    counter[first_letter] += 1\n",
    "print(counter)\n",
    "    \n",
    "x = np.arange(len(counter))\n",
    "labels, y = zip(*counter.items())\n",
    "\n",
    "plt.bar(x, y, tick_label=labels)\n",
    "plt.ylabel(\"Count\")\n",
    "plt.show()"
   ]
  },
  {
   "cell_type": "markdown",
   "metadata": {},
   "source": [
    "## Training"
   ]
  },
  {
   "cell_type": "markdown",
   "metadata": {},
   "source": [
    "Training configuration"
   ]
  },
  {
   "cell_type": "code",
   "execution_count": 5,
   "metadata": {},
   "outputs": [],
   "source": [
    "epochs = 300\n",
    "batch_size = 128\n",
    "hidden_size = 128\n",
    "learning_rate = 0.0001\n",
    "device = \"cuda\"\n",
    "logfile = \"train_loss.log\"\n",
    "verbose = 0  # Removing outputs during training"
   ]
  },
  {
   "cell_type": "markdown",
   "metadata": {},
   "source": [
    "Initialize trainer"
   ]
  },
  {
   "cell_type": "code",
   "execution_count": 6,
   "metadata": {},
   "outputs": [],
   "source": [
    "trainer = RNNLayerTrainer(os.path.join(PROJECT_ROOT, \"data\"),\n",
    "                          epochs=epochs,\n",
    "                          batch_size=batch_size,\n",
    "                          hidden_size=hidden_size,\n",
    "                          lr=learning_rate,\n",
    "                          device=device,\n",
    "                          logfile=logfile,\n",
    "                          verbose=verbose)"
   ]
  },
  {
   "cell_type": "markdown",
   "metadata": {},
   "source": [
    "Run training loop for number of `epochs` and log losses. Models will be saved on 25 epoch intervals."
   ]
  },
  {
   "cell_type": "code",
   "execution_count": 7,
   "metadata": {},
   "outputs": [
    {
     "name": "stdout",
     "output_type": "stream",
     "text": [
      "Started training!\n",
      "Finished training!\n"
     ]
    }
   ],
   "source": [
    "trainer.run_train_loop()"
   ]
  },
  {
   "cell_type": "markdown",
   "metadata": {},
   "source": [
    "Plot losses during training"
   ]
  },
  {
   "cell_type": "code",
   "execution_count": 8,
   "metadata": {},
   "outputs": [
    {
     "data": {
      "image/png": "[encoded data removed]",
      "text/plain": [
       "<Figure size 432x288 with 1 Axes>"
      ]
     },
     "metadata": {
      "needs_background": "light"
     },
     "output_type": "display_data"
    }
   ],
   "source": [
    "epochs, losses = read_log(os.path.join(PROJECT_ROOT, \"train_loss.log\"))\n",
    "\n",
    "assert len(epochs) == len(losses), \"Mismatch lengths. {} != {}\".format(len(epochs), len(losses))\n",
    "\n",
    "plt.plot(np.arange(len(losses)), losses)\n",
    "plt.xlabel(\"Epoch\")\n",
    "plt.ylabel(\"Loss\")\n",
    "plt.show()"
   ]
  },
  {
   "cell_type": "markdown",
   "metadata": {},
   "source": [
    "## Evaluation\n",
    "\n",
    "* Examination of name quality over epochs\n",
    "* Comparision between generated names and real examples"
   ]
  },
  {
   "cell_type": "code",
   "execution_count": null,
   "metadata": {},
   "outputs": [],
   "source": []
  }
 ],
 "metadata": {
  "kernelspec": {
   "display_name": "Python 3",
   "language": "python",
   "name": "python3"
  },
  "language_info": {
   "codemirror_mode": {
    "name": "ipython",
    "version": 3
   },
   "file_extension": ".py",
   "mimetype": "text/x-python",
   "name": "python",
   "nbconvert_exporter": "python",
   "pygments_lexer": "ipython3",
   "version": "3.6.7"
  }
 },
 "nbformat": 4,
 "nbformat_minor": 2
}
