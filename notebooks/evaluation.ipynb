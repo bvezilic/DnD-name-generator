{
 "cells": [
  {
   "cell_type": "code",
   "execution_count": 1,
   "metadata": {},
   "outputs": [],
   "source": [
    "%matplotlib inline\n",
    "\n",
    "import os\n",
    "import sys\n",
    "PROJECT_ROOT = os.path.dirname(os.getcwd())\n",
    "sys.path.append(PROJECT_ROOT)\n",
    "\n",
    "import matplotlib.pyplot as plt\n",
    "\n",
    "from train import RNNLayerTrainer\n",
    "from generator import RNNLayerGenerator\n",
    "from utils import read_log"
   ]
  },
  {
   "cell_type": "markdown",
   "metadata": {},
   "source": [
    "## Training"
   ]
  },
  {
   "cell_type": "code",
   "execution_count": 12,
   "metadata": {},
   "outputs": [],
   "source": [
    "# Training config\n",
    "epochs = 100\n",
    "batch_size = 128\n",
    "hidden_size = 64\n",
    "learning_rate = 0.0001\n",
    "device = \"cuda\"\n",
    "logfile = \"train_loss.log\"\n",
    "verbose = 0"
   ]
  },
  {
   "cell_type": "code",
   "execution_count": 9,
   "metadata": {},
   "outputs": [],
   "source": [
    "# Initialize trainer\n",
    "trainer = RNNLayerTrainer(os.path.join(PROJECT_ROOT, \"data\"),\n",
    "                          epochs=epochs,\n",
    "                          batch_size=batch_size,\n",
    "                          hidden_size=hidden_size,\n",
    "                          lr=learning_rate,\n",
    "                          device=device,\n",
    "                          logfile=logfile,\n",
    "                          verbose=verbose)"
   ]
  },
  {
   "cell_type": "code",
   "execution_count": 16,
   "metadata": {},
   "outputs": [
    {
     "name": "stdout",
     "output_type": "stream",
     "text": [
      "Started training!\n",
      "Models saved on path: models\\rnn_layer_epoch_1.pt\n",
      "Models saved on path: models\\rnn_layer_epoch_5.pt\n",
      "Models saved on path: models\\rnn_layer_epoch_10.pt\n",
      "Models saved on path: models\\rnn_layer_epoch_25.pt\n",
      "Models saved on path: models\\rnn_layer_epoch_50.pt\n",
      "Models saved on path: models\\rnn_layer_epoch_75.pt\n",
      "Models saved on path: models\\rnn_layer_epoch_100.pt\n",
      "Finished training!\n"
     ]
    }
   ],
   "source": [
    "# Run training\n",
    "trainer.run_train_loop()"
   ]
  },
  {
   "cell_type": "code",
   "execution_count": 17,
   "metadata": {},
   "outputs": [
    {
     "data": {
      "image/png": "[encoded data removed]",
      "text/plain": [
       "<Figure size 432x288 with 1 Axes>"
      ]
     },
     "metadata": {
      "needs_background": "light"
     },
     "output_type": "display_data"
    }
   ],
   "source": [
    "# Plot loss during training\n",
    "import numpy as np\n",
    "epochs, losses = read_log(os.path.join(PROJECT_ROOT, \"train_loss.log\"))\n",
    "\n",
    "assert len(epochs) == len(losses), \"Mismatch lengths. {} != {}\".format(len(epochs), len(losses))\n",
    "\n",
    "plt.plot(np.arange(len(losses)), losses)\n",
    "plt.xlabel(\"Epoch\")\n",
    "plt.ylabel(\"Loss\")\n",
    "plt.show()"
   ]
  }
 ],
 "metadata": {
  "kernelspec": {
   "display_name": "Python 3",
   "language": "python",
   "name": "python3"
  },
  "language_info": {
   "codemirror_mode": {
    "name": "ipython",
    "version": 3
   },
   "file_extension": ".py",
   "mimetype": "text/x-python",
   "name": "python",
   "nbconvert_exporter": "python",
   "pygments_lexer": "ipython3",
   "version": "3.6.7"
  }
 },
 "nbformat": 4,
 "nbformat_minor": 2
}
